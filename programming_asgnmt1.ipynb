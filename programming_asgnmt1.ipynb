{
 "cells": [
  {
   "cell_type": "markdown",
   "id": "00614257",
   "metadata": {},
   "source": [
    "1.\tWrite a Python program to print \"Hello Python\"?\n",
    "2.\tWrite a Python program to do arithmetical operations addition and division.?\n",
    "3.\tWrite a Python program to find the area of a triangle?\n",
    "4.\tWrite a Python program to swap two variables?\n",
    "5.\tWrite a Python program to generate a random number?\n"
   ]
  },
  {
   "cell_type": "markdown",
   "id": "b7ff0832",
   "metadata": {},
   "source": [
    "1"
   ]
  },
  {
   "cell_type": "code",
   "execution_count": 1,
   "id": "b045cca9",
   "metadata": {},
   "outputs": [
    {
     "name": "stdout",
     "output_type": "stream",
     "text": [
      "Hello World\n"
     ]
    }
   ],
   "source": [
    "print(\"Hello World\")"
   ]
  },
  {
   "cell_type": "markdown",
   "id": "500beebc",
   "metadata": {},
   "source": [
    "2"
   ]
  },
  {
   "cell_type": "code",
   "execution_count": 8,
   "id": "7477057b",
   "metadata": {},
   "outputs": [
    {
     "name": "stdout",
     "output_type": "stream",
     "text": [
      "enter any number5\n",
      "enter any number5\n",
      "addition 10\n",
      "division 1.0\n"
     ]
    }
   ],
   "source": [
    "a=int(input(\"enter any number\"))\n",
    "b=int(input(\"enter any number\"))\n",
    "print('addition',a+b)\n",
    "print('division',a/b)"
   ]
  },
  {
   "cell_type": "markdown",
   "id": "515c9a2c",
   "metadata": {},
   "source": []
  },
  {
   "cell_type": "markdown",
   "id": "f6b1bf14",
   "metadata": {},
   "source": [
    "3"
   ]
  },
  {
   "cell_type": "code",
   "execution_count": 11,
   "id": "504bb1a1",
   "metadata": {},
   "outputs": [
    {
     "name": "stdout",
     "output_type": "stream",
     "text": [
      "base of triangle3\n",
      "height of triangle6\n",
      "area of triangle:  9.0\n"
     ]
    }
   ],
   "source": [
    "b=float(input(\"base of triangle\"))\n",
    "h=float(input(\"height of triangle\"))\n",
    "area=(b*h)/2\n",
    "print(\"area of triangle: \",area)"
   ]
  },
  {
   "cell_type": "markdown",
   "id": "f96d2898",
   "metadata": {},
   "source": [
    "4"
   ]
  },
  {
   "cell_type": "code",
   "execution_count": 13,
   "id": "4dcccbc9",
   "metadata": {},
   "outputs": [
    {
     "name": "stdout",
     "output_type": "stream",
     "text": [
      "enter first number7\n",
      "enter second number9\n",
      "first number after swapping 9\n",
      "second number after swapping 7\n"
     ]
    }
   ],
   "source": [
    "a=int(input(\"enter first number\"))\n",
    "b=int(input(\"enter second number\"))\n",
    "c=a\n",
    "a=b\n",
    "b=c\n",
    "print(\"first number after swapping\",a)\n",
    "print(\"second number after swapping\",b)"
   ]
  },
  {
   "cell_type": "markdown",
   "id": "6b4711bc",
   "metadata": {},
   "source": [
    "5"
   ]
  },
  {
   "cell_type": "code",
   "execution_count": 21,
   "id": "7b4e78c1",
   "metadata": {},
   "outputs": [
    {
     "data": {
      "text/plain": [
       "86"
      ]
     },
     "execution_count": 21,
     "metadata": {},
     "output_type": "execute_result"
    }
   ],
   "source": [
    "import random as ran\n",
    "round(ran.random()*100)"
   ]
  },
  {
   "cell_type": "code",
   "execution_count": null,
   "id": "120721f1",
   "metadata": {},
   "outputs": [],
   "source": []
  },
  {
   "cell_type": "code",
   "execution_count": null,
   "id": "4af6fc9c",
   "metadata": {},
   "outputs": [],
   "source": []
  }
 ],
 "metadata": {
  "kernelspec": {
   "display_name": "Python 3 (ipykernel)",
   "language": "python",
   "name": "python3"
  },
  "language_info": {
   "codemirror_mode": {
    "name": "ipython",
    "version": 3
   },
   "file_extension": ".py",
   "mimetype": "text/x-python",
   "name": "python",
   "nbconvert_exporter": "python",
   "pygments_lexer": "ipython3",
   "version": "3.9.7"
  }
 },
 "nbformat": 4,
 "nbformat_minor": 5
}
